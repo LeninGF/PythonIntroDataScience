{
 "cells": [
  {
   "cell_type": "markdown",
   "id": "5c8e8a1a-69e0-4eae-9520-1ff8cff6a3b2",
   "metadata": {},
   "source": [
    "# Capítulo 3\n",
    "## Sentencias Condicionales"
   ]
  },
  {
   "cell_type": "code",
   "execution_count": 4,
   "id": "b7a37c82-899d-437d-a1ca-b2af888d1755",
   "metadata": {},
   "outputs": [
    {
     "name": "stdout",
     "output_type": "stream",
     "text": [
      "Bandera Activa\n"
     ]
    },
    {
     "data": {
      "text/plain": [
       "4"
      ]
     },
     "execution_count": 4,
     "metadata": {},
     "output_type": "execute_result"
    }
   ],
   "source": [
    "flag = True\n",
    "\n",
    "if flag:\n",
    "    print(\"Bandera Activa\")\n",
    "2+2"
   ]
  },
  {
   "cell_type": "code",
   "execution_count": 6,
   "id": "547c1407-1015-4337-96fc-9dbe7c91c640",
   "metadata": {},
   "outputs": [
    {
     "name": "stdout",
     "output_type": "stream",
     "text": [
      "Bandera Inactiva\n"
     ]
    },
    {
     "data": {
      "text/plain": [
       "4"
      ]
     },
     "execution_count": 6,
     "metadata": {},
     "output_type": "execute_result"
    }
   ],
   "source": [
    "flag = False\n",
    "if flag:\n",
    "    print(\"Bandera Activa\")\n",
    "else:\n",
    "    print(\"Bandera Inactiva\")\n",
    "2+2"
   ]
  },
  {
   "cell_type": "code",
   "execution_count": 24,
   "id": "e0fb0459-1650-4612-811b-b8f6b644d10c",
   "metadata": {},
   "outputs": [
    {
     "name": "stdin",
     "output_type": "stream",
     "text": [
      "Ingrese el valor de la temperatura: 100\n"
     ]
    }
   ],
   "source": [
    "temperatura = input(\"Ingrese el valor de la temperatura:\")\n",
    "# ingres el valor de la temperat"
   ]
  },
  {
   "cell_type": "code",
   "execution_count": 25,
   "id": "54f6095f-eb8b-4439-a4fe-54d6ce2bf82d",
   "metadata": {},
   "outputs": [
    {
     "data": {
      "text/plain": [
       "100.0"
      ]
     },
     "execution_count": 25,
     "metadata": {},
     "output_type": "execute_result"
    }
   ],
   "source": [
    "temperatura = float(temperatura)\n",
    "temperatura"
   ]
  },
  {
   "cell_type": "code",
   "execution_count": 26,
   "id": "433ec72a-2a95-4ab0-a906-4cf51b61c3d5",
   "metadata": {},
   "outputs": [
    {
     "name": "stdout",
     "output_type": "stream",
     "text": [
      "100.0 esta fuera de escala\n"
     ]
    }
   ],
   "source": [
    "# si la temp < 20 frio\n",
    "# si la 20 < temp <25 abrigado\n",
    "# si la 25 < temp < 35, muy caliente\n",
    "# temperatura fuera de escala\n",
    "\n",
    "if temperatura < 20:\n",
    "    print(\"frio\")\n",
    "elif 20 <= temperatura < 25:\n",
    "    print(\"abrigado\")\n",
    "elif 25<= temperatura<35:\n",
    "    print(\"muy caliente\")\n",
    "else:\n",
    "    print(f\"{temperatura} esta fuera de escala\")\n"
   ]
  },
  {
   "cell_type": "code",
   "execution_count": 27,
   "id": "0f7ec362-d4ad-4f39-a882-8b5d155d7b0b",
   "metadata": {},
   "outputs": [
    {
     "data": {
      "text/plain": [
       "12"
      ]
     },
     "execution_count": 27,
     "metadata": {},
     "output_type": "execute_result"
    }
   ],
   "source": [
    "a = 5\n",
    "b = 12\n",
    "\n",
    "resp = a if a>12 else b\n",
    "resp"
   ]
  },
  {
   "cell_type": "code",
   "execution_count": 29,
   "id": "a07a8e9c-445b-4560-99f6-1b0607cceebb",
   "metadata": {},
   "outputs": [
    {
     "name": "stdout",
     "output_type": "stream",
     "text": [
      "12\n"
     ]
    }
   ],
   "source": [
    "if a>b:\n",
    "    print(a)\n",
    "else:\n",
    "    print(b)"
   ]
  },
  {
   "cell_type": "markdown",
   "id": "c5575cfa-5daa-4499-a1e0-ebd6bd4d6110",
   "metadata": {},
   "source": [
    "## Operadores Lógicos\n",
    "- `&` `and`\n",
    "- `|` `or`\n",
    "- `==` EQUAL\n",
    "- `not` NEGATION"
   ]
  },
  {
   "cell_type": "code",
   "execution_count": 41,
   "id": "ba41f6ab-22ea-4b10-9db4-0e95af515cce",
   "metadata": {},
   "outputs": [
    {
     "name": "stdin",
     "output_type": "stream",
     "text": [
      "Ingrese promedio:  28\n",
      "Ingrese asistencia:  75\n"
     ]
    }
   ],
   "source": [
    "# Si el promedio del estudiante es superior a 28 \n",
    "# y el porcentaje de asistencia es superior a 70\n",
    "# entonces aprueba\n",
    "\n",
    "promedio = float(input(\"Ingrese promedio: \"))\n",
    "asistencia = float(input(\"Ingrese asistencia: \"))"
   ]
  },
  {
   "cell_type": "code",
   "execution_count": 42,
   "id": "5920e922-b01a-43d5-bb9e-d29c7e16b8a0",
   "metadata": {},
   "outputs": [
    {
     "name": "stdout",
     "output_type": "stream",
     "text": [
      "reprueba\n"
     ]
    }
   ],
   "source": [
    "if promedio>28 and asistencia>70:\n",
    "    print(\"aprueba\")\n",
    "else:\n",
    "    print(\"reprueba\")"
   ]
  },
  {
   "cell_type": "markdown",
   "id": "901a101a-d27f-4e3c-9866-30aaeb5ef7d0",
   "metadata": {},
   "source": [
    "# Capítulo 4\n",
    "## While Loop"
   ]
  },
  {
   "cell_type": "code",
   "execution_count": 43,
   "id": "7ff18945-a898-4ff6-b72e-4a0ce9c3bb6e",
   "metadata": {},
   "outputs": [
    {
     "data": {
      "text/plain": [
       "[1,\n",
       " 2,\n",
       " 3,\n",
       " 4,\n",
       " 5,\n",
       " 6,\n",
       " 7,\n",
       " 8,\n",
       " 9,\n",
       " 10,\n",
       " 11,\n",
       " 12,\n",
       " 13,\n",
       " 14,\n",
       " 15,\n",
       " 16,\n",
       " 17,\n",
       " 18,\n",
       " 19,\n",
       " 20,\n",
       " 21,\n",
       " 22,\n",
       " 23,\n",
       " 24,\n",
       " 25,\n",
       " 26,\n",
       " 27,\n",
       " 28,\n",
       " 29,\n",
       " 30,\n",
       " 31,\n",
       " 32,\n",
       " 33,\n",
       " 34,\n",
       " 35,\n",
       " 36,\n",
       " 37,\n",
       " 38,\n",
       " 39,\n",
       " 40,\n",
       " 41,\n",
       " 42,\n",
       " 43,\n",
       " 44,\n",
       " 45,\n",
       " 46,\n",
       " 47,\n",
       " 48,\n",
       " 49,\n",
       " 50,\n",
       " 51,\n",
       " 52,\n",
       " 53,\n",
       " 54,\n",
       " 55,\n",
       " 56,\n",
       " 57,\n",
       " 58,\n",
       " 59,\n",
       " 60,\n",
       " 61,\n",
       " 62,\n",
       " 63,\n",
       " 64,\n",
       " 65,\n",
       " 66,\n",
       " 67,\n",
       " 68,\n",
       " 69,\n",
       " 70,\n",
       " 71,\n",
       " 72,\n",
       " 73,\n",
       " 74,\n",
       " 75,\n",
       " 76,\n",
       " 77,\n",
       " 78,\n",
       " 79,\n",
       " 80,\n",
       " 81,\n",
       " 82,\n",
       " 83,\n",
       " 84,\n",
       " 85,\n",
       " 86,\n",
       " 87,\n",
       " 88,\n",
       " 89,\n",
       " 90,\n",
       " 91,\n",
       " 92,\n",
       " 93,\n",
       " 94,\n",
       " 95,\n",
       " 96,\n",
       " 97,\n",
       " 98,\n",
       " 99,\n",
       " 100]"
      ]
     },
     "execution_count": 43,
     "metadata": {},
     "output_type": "execute_result"
    }
   ],
   "source": [
    "cont = 1\n",
    "lista_resp = []\n",
    "while(cont<101):\n",
    "    lista_resp.append(cont)\n",
    "    cont+=1\n",
    "\n",
    "lista_resp\n",
    "    "
   ]
  },
  {
   "cell_type": "markdown",
   "id": "7833f593-a60c-46f7-aae3-31aebbe670cd",
   "metadata": {},
   "source": [
    "## For - Loop"
   ]
  },
  {
   "cell_type": "code",
   "execution_count": 44,
   "id": "3766ca84-181c-487a-b61e-8a087ac452d4",
   "metadata": {},
   "outputs": [
    {
     "data": {
      "text/plain": [
       "[1,\n",
       " 2,\n",
       " 3,\n",
       " 4,\n",
       " 5,\n",
       " 6,\n",
       " 7,\n",
       " 8,\n",
       " 9,\n",
       " 10,\n",
       " 11,\n",
       " 12,\n",
       " 13,\n",
       " 14,\n",
       " 15,\n",
       " 16,\n",
       " 17,\n",
       " 18,\n",
       " 19,\n",
       " 20,\n",
       " 21,\n",
       " 22,\n",
       " 23,\n",
       " 24,\n",
       " 25,\n",
       " 26,\n",
       " 27,\n",
       " 28,\n",
       " 29,\n",
       " 30,\n",
       " 31,\n",
       " 32,\n",
       " 33,\n",
       " 34,\n",
       " 35,\n",
       " 36,\n",
       " 37,\n",
       " 38,\n",
       " 39,\n",
       " 40,\n",
       " 41,\n",
       " 42,\n",
       " 43,\n",
       " 44,\n",
       " 45,\n",
       " 46,\n",
       " 47,\n",
       " 48,\n",
       " 49,\n",
       " 50,\n",
       " 51,\n",
       " 52,\n",
       " 53,\n",
       " 54,\n",
       " 55,\n",
       " 56,\n",
       " 57,\n",
       " 58,\n",
       " 59,\n",
       " 60,\n",
       " 61,\n",
       " 62,\n",
       " 63,\n",
       " 64,\n",
       " 65,\n",
       " 66,\n",
       " 67,\n",
       " 68,\n",
       " 69,\n",
       " 70,\n",
       " 71,\n",
       " 72,\n",
       " 73,\n",
       " 74,\n",
       " 75,\n",
       " 76,\n",
       " 77,\n",
       " 78,\n",
       " 79,\n",
       " 80,\n",
       " 81,\n",
       " 82,\n",
       " 83,\n",
       " 84,\n",
       " 85,\n",
       " 86,\n",
       " 87,\n",
       " 88,\n",
       " 89,\n",
       " 90,\n",
       " 91,\n",
       " 92,\n",
       " 93,\n",
       " 94,\n",
       " 95,\n",
       " 96,\n",
       " 97,\n",
       " 98,\n",
       " 99,\n",
       " 100]"
      ]
     },
     "execution_count": 44,
     "metadata": {},
     "output_type": "execute_result"
    }
   ],
   "source": [
    "lista_resp = [i for i in range(1,101)]\n",
    "lista_resp"
   ]
  },
  {
   "cell_type": "code",
   "execution_count": 47,
   "id": "a79a3370-87b2-4537-973f-664b0dcab172",
   "metadata": {},
   "outputs": [
    {
     "data": {
      "text/plain": [
       "['a', 'b', 'c', 'a', 'b', 'c', 'a', 'b', 'c']"
      ]
     },
     "execution_count": 47,
     "metadata": {},
     "output_type": "execute_result"
    }
   ],
   "source": [
    "a = ['a', 'b', 'c']\n",
    "a*3"
   ]
  },
  {
   "cell_type": "code",
   "execution_count": 49,
   "id": "856c136f-cd6c-4c1b-8ac9-04945a8a1d0a",
   "metadata": {},
   "outputs": [
    {
     "data": {
      "text/plain": [
       "[1,\n",
       " 4,\n",
       " 9,\n",
       " 16,\n",
       " 25,\n",
       " 36,\n",
       " 49,\n",
       " 64,\n",
       " 81,\n",
       " 100,\n",
       " 121,\n",
       " 144,\n",
       " 169,\n",
       " 196,\n",
       " 225,\n",
       " 256,\n",
       " 289,\n",
       " 324,\n",
       " 361,\n",
       " 400,\n",
       " 441,\n",
       " 484,\n",
       " 529,\n",
       " 576,\n",
       " 625,\n",
       " 676,\n",
       " 729,\n",
       " 784,\n",
       " 841,\n",
       " 900,\n",
       " 961,\n",
       " 1024,\n",
       " 1089,\n",
       " 1156,\n",
       " 1225,\n",
       " 1296,\n",
       " 1369,\n",
       " 1444,\n",
       " 1521,\n",
       " 1600,\n",
       " 1681,\n",
       " 1764,\n",
       " 1849,\n",
       " 1936,\n",
       " 2025,\n",
       " 2116,\n",
       " 2209,\n",
       " 2304,\n",
       " 2401,\n",
       " 2500,\n",
       " 2601,\n",
       " 2704,\n",
       " 2809,\n",
       " 2916,\n",
       " 3025,\n",
       " 3136,\n",
       " 3249,\n",
       " 3364,\n",
       " 3481,\n",
       " 3600,\n",
       " 3721,\n",
       " 3844,\n",
       " 3969,\n",
       " 4096,\n",
       " 4225,\n",
       " 4356,\n",
       " 4489,\n",
       " 4624,\n",
       " 4761,\n",
       " 4900,\n",
       " 5041,\n",
       " 5184,\n",
       " 5329,\n",
       " 5476,\n",
       " 5625,\n",
       " 5776,\n",
       " 5929,\n",
       " 6084,\n",
       " 6241,\n",
       " 6400,\n",
       " 6561,\n",
       " 6724,\n",
       " 6889,\n",
       " 7056,\n",
       " 7225,\n",
       " 7396,\n",
       " 7569,\n",
       " 7744,\n",
       " 7921,\n",
       " 8100,\n",
       " 8281,\n",
       " 8464,\n",
       " 8649,\n",
       " 8836,\n",
       " 9025,\n",
       " 9216,\n",
       " 9409,\n",
       " 9604,\n",
       " 9801,\n",
       " 10000]"
      ]
     },
     "execution_count": 49,
     "metadata": {},
     "output_type": "execute_result"
    }
   ],
   "source": [
    "lista_cuadrado = [i**2 for i in lista_resp]\n",
    "lista_cuadrado"
   ]
  }
 ],
 "metadata": {
  "kernelspec": {
   "display_name": "Python 3 (ipykernel)",
   "language": "python",
   "name": "python3"
  },
  "language_info": {
   "codemirror_mode": {
    "name": "ipython",
    "version": 3
   },
   "file_extension": ".py",
   "mimetype": "text/x-python",
   "name": "python",
   "nbconvert_exporter": "python",
   "pygments_lexer": "ipython3",
   "version": "3.9.19"
  }
 },
 "nbformat": 4,
 "nbformat_minor": 5
}
