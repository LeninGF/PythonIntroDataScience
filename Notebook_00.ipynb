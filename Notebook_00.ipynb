{
 "cells": [
  {
   "cell_type": "markdown",
   "id": "31e61ddd-1b2c-45aa-a3a0-b4e3b93cda16",
   "metadata": {},
   "source": [
    "# Capítulo 1\n",
    "## Tipos de Variables en Python\n",
    "\n",
    "Los tipos de datos más comunes son:\n",
    "- entero `int`\n",
    "- decimal `float`\n",
    "- text `str`\n",
    "\n",
    "Los tipos de datos compuestos son:\n",
    "\n",
    "- lista `list`\n",
    "- tupla `tuple`\n",
    "- diccionarios `dict`\n",
    "- Conjunto `set`\n",
    "\n",
    "A continuación definimos algunos ejemplos"
   ]
  },
  {
   "cell_type": "code",
   "execution_count": 1,
   "id": "189ce920-5742-4d45-bfb8-70697b104592",
   "metadata": {},
   "outputs": [
    {
     "data": {
      "text/plain": [
       "int"
      ]
     },
     "execution_count": 1,
     "metadata": {},
     "output_type": "execute_result"
    }
   ],
   "source": [
    "a  = 5\n",
    "type(a)"
   ]
  },
  {
   "cell_type": "code",
   "execution_count": 2,
   "id": "dad7bbf3-2586-4803-86b2-006ffc9f9e15",
   "metadata": {},
   "outputs": [
    {
     "data": {
      "text/plain": [
       "float"
      ]
     },
     "execution_count": 2,
     "metadata": {},
     "output_type": "execute_result"
    }
   ],
   "source": [
    "a  = .5\n",
    "type(a)"
   ]
  },
  {
   "cell_type": "code",
   "execution_count": 3,
   "id": "78d16698-1889-4a25-a8a7-dfd269a8adbb",
   "metadata": {},
   "outputs": [
    {
     "data": {
      "text/plain": [
       "str"
      ]
     },
     "execution_count": 3,
     "metadata": {},
     "output_type": "execute_result"
    }
   ],
   "source": [
    "b = 'cadena de texto'\n",
    "type(b)"
   ]
  },
  {
   "cell_type": "markdown",
   "id": "f26017d9-f18a-4937-86a9-3f720f9f4d96",
   "metadata": {},
   "source": [
    "Ejemplos de datos compuestos"
   ]
  },
  {
   "cell_type": "code",
   "execution_count": 61,
   "id": "b6da5848-dd77-4212-a00d-f1d4b6fe20b5",
   "metadata": {},
   "outputs": [
    {
     "data": {
      "text/plain": [
       "list"
      ]
     },
     "execution_count": 61,
     "metadata": {},
     "output_type": "execute_result"
    }
   ],
   "source": [
    "lista1 = [1,2,'texo', 3.4, ['a', 'e', 'i', 'o', 'u']]\n",
    "type(lista1)"
   ]
  },
  {
   "cell_type": "code",
   "execution_count": 62,
   "id": "42ef3173-5515-4d40-8a81-21faab66785c",
   "metadata": {},
   "outputs": [
    {
     "data": {
      "text/plain": [
       "[1, 2, 'texo', 3.4, ['a', 'e', 'i', 'o', 'u']]"
      ]
     },
     "execution_count": 62,
     "metadata": {},
     "output_type": "execute_result"
    }
   ],
   "source": [
    "lista1"
   ]
  },
  {
   "cell_type": "code",
   "execution_count": 63,
   "id": "69fd718a-af6c-4d5f-ba81-ac5bb8c778c9",
   "metadata": {},
   "outputs": [
    {
     "data": {
      "text/plain": [
       "['a', 'e', 'i', 'o', 'u']"
      ]
     },
     "execution_count": 63,
     "metadata": {},
     "output_type": "execute_result"
    }
   ],
   "source": [
    "lista1[4]"
   ]
  },
  {
   "cell_type": "code",
   "execution_count": 11,
   "id": "55ca94ef-b215-4d1b-b78e-be73cdf18a5e",
   "metadata": {},
   "outputs": [
    {
     "data": {
      "text/plain": [
       "[1, 2, 'texto txt', 3.4]"
      ]
     },
     "execution_count": 11,
     "metadata": {},
     "output_type": "execute_result"
    }
   ],
   "source": [
    "lista1[2]='texto txt'\n",
    "lista1"
   ]
  },
  {
   "cell_type": "markdown",
   "id": "67b5c348-c024-46ce-ba0a-2bce3eb7f9a1",
   "metadata": {},
   "source": [
    "Para iterar sobre todos los valores de la lista voy a usar un `for loop`"
   ]
  },
  {
   "cell_type": "code",
   "execution_count": 13,
   "id": "d5ad980b-90fc-440e-bb8b-3b14e19ad6c5",
   "metadata": {},
   "outputs": [
    {
     "name": "stdout",
     "output_type": "stream",
     "text": [
      "1 <class 'int'>\n",
      "2 <class 'int'>\n",
      "texto txt <class 'str'>\n",
      "3.4 <class 'float'>\n"
     ]
    }
   ],
   "source": [
    "for elemento in lista1:\n",
    "    print(elemento, type(elemento))"
   ]
  },
  {
   "cell_type": "code",
   "execution_count": 5,
   "id": "79032804-7d1c-4118-a5a4-999b5a312e3b",
   "metadata": {},
   "outputs": [
    {
     "data": {
      "text/plain": [
       "tuple"
      ]
     },
     "execution_count": 5,
     "metadata": {},
     "output_type": "execute_result"
    }
   ],
   "source": [
    "d = ('1719676239', 'Lenin', 'Falconi', 40)\n",
    "type(d)"
   ]
  },
  {
   "cell_type": "code",
   "execution_count": 17,
   "id": "dcb0a8df-883f-4e46-9bb7-507315e66603",
   "metadata": {},
   "outputs": [
    {
     "data": {
      "text/plain": [
       "40"
      ]
     },
     "execution_count": 17,
     "metadata": {},
     "output_type": "execute_result"
    }
   ],
   "source": [
    "d[3]"
   ]
  },
  {
   "cell_type": "code",
   "execution_count": 19,
   "id": "8f1c8343-7fd3-4bfc-87e3-ce3504147824",
   "metadata": {},
   "outputs": [
    {
     "name": "stdout",
     "output_type": "stream",
     "text": [
      "1719676239 Lenin Falconi 40\n"
     ]
    }
   ],
   "source": [
    "cedula, nombre, apellido, edad = d\n",
    "print(cedula, nombre, apellido, edad)"
   ]
  },
  {
   "cell_type": "code",
   "execution_count": 20,
   "id": "c623e4b6-cbbd-46a9-bf6a-801aec79262a",
   "metadata": {},
   "outputs": [
    {
     "data": {
      "text/plain": [
       "('0401314562', 'Edith', 'Arevalo', 40)"
      ]
     },
     "execution_count": 20,
     "metadata": {},
     "output_type": "execute_result"
    }
   ],
   "source": [
    "cedula = '0401314562'\n",
    "nombre = 'Edith'\n",
    "apellido = 'Arevalo'\n",
    "edadd = 44\n",
    "d = (cedula, nombre, apellido, edad)\n",
    "d"
   ]
  },
  {
   "cell_type": "code",
   "execution_count": 65,
   "id": "f221f5ee-b386-4237-8724-3a9fd280012f",
   "metadata": {},
   "outputs": [
    {
     "name": "stdout",
     "output_type": "stream",
     "text": [
      "0 0401314562\n",
      "1 Edith\n",
      "2 Arevalo\n",
      "3 40\n"
     ]
    }
   ],
   "source": [
    "for i, dato in enumerate(d):\n",
    "    print(i, dato)"
   ]
  },
  {
   "cell_type": "markdown",
   "id": "f8387fb3-cfd4-4c73-89f6-b1ae704f4b7f",
   "metadata": {},
   "source": [
    "Diccionario es una estructura de datos de tipo clave - valor"
   ]
  },
  {
   "cell_type": "code",
   "execution_count": 28,
   "id": "812557a7-1ba3-46d6-acf5-38e9a1226604",
   "metadata": {},
   "outputs": [
    {
     "data": {
      "text/plain": [
       "dict"
      ]
     },
     "execution_count": 28,
     "metadata": {},
     "output_type": "execute_result"
    }
   ],
   "source": [
    "persona1 = {'nombre':'Lenin',\n",
    "            'apellido': 'Falconi',\n",
    "            'edad':40}\n",
    "type(persona1)"
   ]
  },
  {
   "cell_type": "code",
   "execution_count": 29,
   "id": "320dfff9-60f8-497f-b5f6-e7daad5f55dc",
   "metadata": {},
   "outputs": [
    {
     "data": {
      "text/plain": [
       "dict_keys(['nombre', 'apellido', 'edad'])"
      ]
     },
     "execution_count": 29,
     "metadata": {},
     "output_type": "execute_result"
    }
   ],
   "source": [
    "persona1.keys()"
   ]
  },
  {
   "cell_type": "code",
   "execution_count": 30,
   "id": "30c2f94a-0bdc-4cc6-8d06-d04777d9f092",
   "metadata": {},
   "outputs": [
    {
     "data": {
      "text/plain": [
       "dict_values(['Lenin', 'Falconi', 40])"
      ]
     },
     "execution_count": 30,
     "metadata": {},
     "output_type": "execute_result"
    }
   ],
   "source": [
    "persona1.values()"
   ]
  },
  {
   "cell_type": "code",
   "execution_count": 31,
   "id": "184f209f-a9ae-4e45-92ea-f4b5033a7fc1",
   "metadata": {},
   "outputs": [
    {
     "data": {
      "text/plain": [
       "'Lenin'"
      ]
     },
     "execution_count": 31,
     "metadata": {},
     "output_type": "execute_result"
    }
   ],
   "source": [
    "persona1['nombre']"
   ]
  },
  {
   "cell_type": "code",
   "execution_count": 32,
   "id": "e37e2b4f-8a27-4dcc-b6bd-f0f4fd3a2473",
   "metadata": {},
   "outputs": [
    {
     "data": {
      "text/plain": [
       "40"
      ]
     },
     "execution_count": 32,
     "metadata": {},
     "output_type": "execute_result"
    }
   ],
   "source": [
    "persona1.get('edad', -1)"
   ]
  },
  {
   "cell_type": "code",
   "execution_count": 33,
   "id": "37bf094e-247a-4af8-bf1a-f13f5b6c1c37",
   "metadata": {},
   "outputs": [],
   "source": [
    "persona2 = {'nombre':'Edith',\n",
    "               'apellido': 'Arevalo'}"
   ]
  },
  {
   "cell_type": "code",
   "execution_count": 36,
   "id": "09560763-e6c3-4822-90ea-c9d90f830aac",
   "metadata": {},
   "outputs": [
    {
     "data": {
      "text/plain": [
       "-1"
      ]
     },
     "execution_count": 36,
     "metadata": {},
     "output_type": "execute_result"
    }
   ],
   "source": [
    "persona2.get('edad', -1)"
   ]
  },
  {
   "cell_type": "code",
   "execution_count": 44,
   "id": "dc69ada3-c2d7-4bdd-97b1-c9a667079473",
   "metadata": {},
   "outputs": [
    {
     "data": {
      "text/plain": [
       "[{'nombre': 'Lenin', 'apellido': 'Falconi', 'edad': 40},\n",
       " {'nombre': 'Edith', 'apellido': 'Arevalo'}]"
      ]
     },
     "execution_count": 44,
     "metadata": {},
     "output_type": "execute_result"
    }
   ],
   "source": [
    "talento_humano_arr = [persona1, persona2]\n",
    "talento_humano_arr"
   ]
  },
  {
   "cell_type": "code",
   "execution_count": 59,
   "id": "9faf8258-40af-4fb1-988f-87de290fcb79",
   "metadata": {},
   "outputs": [
    {
     "data": {
      "text/plain": [
       "{'nombre': 'Edith', 'apellido': 'Arevalo'}"
      ]
     },
     "execution_count": 59,
     "metadata": {},
     "output_type": "execute_result"
    }
   ],
   "source": [
    "talento_humano_arr[1]"
   ]
  },
  {
   "cell_type": "code",
   "execution_count": 56,
   "id": "96515e1e-71af-42d8-8cf8-3e970f02d4a9",
   "metadata": {},
   "outputs": [
    {
     "data": {
      "text/plain": [
       "{0: {'nombre': 'Lenin', 'apellido': 'Falconi', 'edad': 40},\n",
       " 1: {'nombre': 'Edith', 'apellido': 'Arevalo'}}"
      ]
     },
     "execution_count": 56,
     "metadata": {},
     "output_type": "execute_result"
    }
   ],
   "source": [
    "talento_humano_dict = dict(enumerate([persona1, persona2]))\n",
    "talento_humano_dict"
   ]
  },
  {
   "cell_type": "code",
   "execution_count": 57,
   "id": "70c9ca4e-2180-41bb-96e5-7757f0414269",
   "metadata": {},
   "outputs": [
    {
     "data": {
      "text/plain": [
       "dict_keys([0, 1])"
      ]
     },
     "execution_count": 57,
     "metadata": {},
     "output_type": "execute_result"
    }
   ],
   "source": [
    "talento_humano_dict.keys()"
   ]
  },
  {
   "cell_type": "code",
   "execution_count": 58,
   "id": "7bf28189-e38b-4e4f-8d7d-ec3eb827bc78",
   "metadata": {},
   "outputs": [
    {
     "data": {
      "text/plain": [
       "{'nombre': 'Lenin', 'apellido': 'Falconi', 'edad': 40}"
      ]
     },
     "execution_count": 58,
     "metadata": {},
     "output_type": "execute_result"
    }
   ],
   "source": [
    "talento_humano_dict.get(0)"
   ]
  },
  {
   "cell_type": "code",
   "execution_count": 99,
   "id": "a799266e-2b0c-4567-8700-0896c03876d0",
   "metadata": {},
   "outputs": [
    {
     "data": {
      "text/plain": [
       "{'auto', 'gato', 'moto', 'persona'}"
      ]
     },
     "execution_count": 99,
     "metadata": {},
     "output_type": "execute_result"
    }
   ],
   "source": [
    "lista_a = ['auto', 'moto', 'persona', 'persona', 'gato']\n",
    "set_b = set(lista_a)\n",
    "set_b"
   ]
  },
  {
   "cell_type": "markdown",
   "id": "5705aa71-a218-488a-9d46-251f90fe25ac",
   "metadata": {},
   "source": [
    "## Operaciones entre tipos de datos\n",
    "\n",
    "- Suma `+`\n",
    "- Resta `-`\n",
    "- Multiplicacion `*`\n",
    "- Potencia `**`\n",
    "- Modulo `%`"
   ]
  },
  {
   "cell_type": "code",
   "execution_count": 96,
   "id": "6a816c0e-fb8f-46fa-b81a-51f969d0cf67",
   "metadata": {},
   "outputs": [
    {
     "data": {
      "text/plain": [
       "(8, 15, 0.6, 0, 9, 2)"
      ]
     },
     "execution_count": 96,
     "metadata": {},
     "output_type": "execute_result"
    }
   ],
   "source": [
    "a = 3\n",
    "b = 5\n",
    "a+b,a*b, a/b, a//b, a**2, b%3"
   ]
  },
  {
   "cell_type": "code",
   "execution_count": 73,
   "id": "95ba23bc-5684-4c27-9e45-1b79c9d4b798",
   "metadata": {},
   "outputs": [
    {
     "data": {
      "text/plain": [
       "[1, 2, 3, 4, 5, 6]"
      ]
     },
     "execution_count": 73,
     "metadata": {},
     "output_type": "execute_result"
    }
   ],
   "source": [
    "a = [1,2,3]\n",
    "b = [4,5,6]\n",
    "c = a+b\n",
    "c"
   ]
  },
  {
   "cell_type": "code",
   "execution_count": 74,
   "id": "d3b905fa-5760-4475-86ed-01b2331d299d",
   "metadata": {},
   "outputs": [
    {
     "name": "stdout",
     "output_type": "stream",
     "text": [
      "Lenin Falconi\n"
     ]
    }
   ],
   "source": [
    "a = persona1.get('nombre')\n",
    "b = persona1.get('apellido')\n",
    "print(a,b)"
   ]
  },
  {
   "cell_type": "code",
   "execution_count": 77,
   "id": "563e1f62-2b93-4dc0-b082-f97e19299c49",
   "metadata": {},
   "outputs": [
    {
     "data": {
      "text/plain": [
       "'LeninFalconi'"
      ]
     },
     "execution_count": 77,
     "metadata": {},
     "output_type": "execute_result"
    }
   ],
   "source": [
    "a+b"
   ]
  },
  {
   "cell_type": "code",
   "execution_count": 101,
   "id": "d34e5fc9-2d07-45ab-a91e-e0aec57e0e1d",
   "metadata": {},
   "outputs": [],
   "source": [
    "vocales = {'a', 'e', 'i', 'o', 'u'}\n",
    "vocales_abiertas = {'a', 'e', 'o'}"
   ]
  },
  {
   "cell_type": "code",
   "execution_count": 102,
   "id": "60b7dfe6-ded0-4243-acf4-239cd8e1f49b",
   "metadata": {},
   "outputs": [
    {
     "data": {
      "text/plain": [
       "{'a', 'e', 'o'}"
      ]
     },
     "execution_count": 102,
     "metadata": {},
     "output_type": "execute_result"
    }
   ],
   "source": [
    "vocales.intersection(vocales_abiertas)"
   ]
  },
  {
   "cell_type": "code",
   "execution_count": 103,
   "id": "31138dff-df15-4445-b243-4afb7ac8b667",
   "metadata": {},
   "outputs": [
    {
     "data": {
      "text/plain": [
       "{'i', 'u'}"
      ]
     },
     "execution_count": 103,
     "metadata": {},
     "output_type": "execute_result"
    }
   ],
   "source": [
    "vocales.difference(vocales_abiertas)"
   ]
  },
  {
   "cell_type": "code",
   "execution_count": 104,
   "id": "2beef840-38e3-448a-8dbe-690ab247d306",
   "metadata": {},
   "outputs": [
    {
     "data": {
      "text/plain": [
       "{'i', 'u'}"
      ]
     },
     "execution_count": 104,
     "metadata": {},
     "output_type": "execute_result"
    }
   ],
   "source": [
    "vocales.symmetric_difference(vocales_abiertas)"
   ]
  },
  {
   "cell_type": "markdown",
   "id": "21a1d57e-120e-4ec0-a739-63eacd8361e8",
   "metadata": {},
   "source": [
    "## Declaración de Funciones\n",
    "\n",
    "Las funciones se declaran con la palabra reservada `def`"
   ]
  },
  {
   "cell_type": "code",
   "execution_count": 79,
   "id": "70f16354-3f44-4afe-adab-d116abd5b7fb",
   "metadata": {},
   "outputs": [
    {
     "name": "stdout",
     "output_type": "stream",
     "text": [
      "¡hola Lenin Falconi!\n"
     ]
    }
   ],
   "source": [
    "def saludar(nombre:str):\n",
    "    print(f\"¡hola {nombre}!\")\n",
    "\n",
    "saludar(persona1.get('nombre')+' '+persona1.get('apellido'))"
   ]
  },
  {
   "cell_type": "code",
   "execution_count": 92,
   "id": "728af57f-8bc4-49da-9464-99fa73c3436c",
   "metadata": {},
   "outputs": [
    {
     "name": "stdout",
     "output_type": "stream",
     "text": [
      "producto:papas\n",
      "precio:1.5\n",
      "cantidades:2\n",
      "================= ** ===============\n",
      "producto:cola\n",
      "precio:1\n",
      "cantidades:1\n",
      "================= ** ===============\n",
      "producto:chocolate\n",
      "precio:0.75\n",
      "cantidades:3\n",
      "================= ** ===============\n"
     ]
    },
    {
     "data": {
      "text/plain": [
       "6.25"
      ]
     },
     "execution_count": 92,
     "metadata": {},
     "output_type": "execute_result"
    }
   ],
   "source": [
    "productos = ['papas', 'cola', 'chocolate']\n",
    "precios = [1.5, 1, 0.75]\n",
    "cantidades = [2, 1, 3]\n",
    "\n",
    "def total_compra(lista_productos, lista_precios, lista_cantidades):\n",
    "    total = 0\n",
    "    for idx in range(len(lista_cantidades)):\n",
    "        total = total + lista_cantidades[idx]*lista_precios[idx]\n",
    "        print(f\"producto:{lista_productos[idx]}\\nprecio:{lista_precios[idx]}\\ncantidades:{lista_cantidades[idx]}\")\n",
    "        print(\"================= ** ===============\")\n",
    "        # print(lista_productos[idx], lista_precios[idx], lista_cantidades[idx])\n",
    "    return total\n",
    "\n",
    "total_compra(lista_cantidades=cantidades,\n",
    "             lista_precios=precios,\n",
    "             lista_productos=productos)\n",
    "    "
   ]
  },
  {
   "cell_type": "markdown",
   "id": "5d959059-a537-42a4-9feb-4efbd5333ab9",
   "metadata": {},
   "source": [
    "### Librería Matemática\n"
   ]
  },
  {
   "cell_type": "code",
   "execution_count": 1,
   "id": "0d903546-2cb1-4659-81c9-d302eac8ad4f",
   "metadata": {},
   "outputs": [
    {
     "data": {
      "text/plain": [
       "3"
      ]
     },
     "execution_count": 1,
     "metadata": {},
     "output_type": "execute_result"
    }
   ],
   "source": [
    "import math\n",
    "math.ceil(2.678)"
   ]
  },
  {
   "cell_type": "code",
   "execution_count": 2,
   "id": "c9eb8b61-df7a-41fc-a68b-fe96234265ee",
   "metadata": {},
   "outputs": [
    {
     "data": {
      "text/plain": [
       "2"
      ]
     },
     "execution_count": 2,
     "metadata": {},
     "output_type": "execute_result"
    }
   ],
   "source": [
    "math.floor(2.678)"
   ]
  },
  {
   "cell_type": "code",
   "execution_count": 4,
   "id": "65fb0872-eeaa-435b-b094-ca3f373f8d1d",
   "metadata": {},
   "outputs": [
    {
     "data": {
      "text/plain": [
       "\u001b[0;31mSignature:\u001b[0m \u001b[0mmath\u001b[0m\u001b[0;34m.\u001b[0m\u001b[0mceil\u001b[0m\u001b[0;34m(\u001b[0m\u001b[0mx\u001b[0m\u001b[0;34m,\u001b[0m \u001b[0;34m/\u001b[0m\u001b[0;34m)\u001b[0m\u001b[0;34m\u001b[0m\u001b[0;34m\u001b[0m\u001b[0m\n",
       "\u001b[0;31mDocstring:\u001b[0m\n",
       "Return the ceiling of x as an Integral.\n",
       "\n",
       "This is the smallest integer >= x.\n",
       "\u001b[0;31mType:\u001b[0m      builtin_function_or_method"
      ]
     },
     "metadata": {},
     "output_type": "display_data"
    }
   ],
   "source": [
    "math.ceil?"
   ]
  },
  {
   "cell_type": "code",
   "execution_count": 6,
   "id": "b86c27b0-07ed-431b-82e6-3878769116cc",
   "metadata": {},
   "outputs": [
    {
     "data": {
      "text/plain": [
       "3.141592653589793"
      ]
     },
     "execution_count": 6,
     "metadata": {},
     "output_type": "execute_result"
    }
   ],
   "source": [
    "math.pi"
   ]
  },
  {
   "cell_type": "code",
   "execution_count": 7,
   "id": "d98b034b-ea40-4265-98d4-d33514c44e5b",
   "metadata": {},
   "outputs": [
    {
     "data": {
      "text/plain": [
       "120"
      ]
     },
     "execution_count": 7,
     "metadata": {},
     "output_type": "execute_result"
    }
   ],
   "source": [
    "math.factorial(5)"
   ]
  },
  {
   "cell_type": "code",
   "execution_count": 8,
   "id": "21de03e1-2ba3-4c5d-9617-9d3880aba9d7",
   "metadata": {},
   "outputs": [
    {
     "data": {
      "text/plain": [
       "1.4142135623730951"
      ]
     },
     "execution_count": 8,
     "metadata": {},
     "output_type": "execute_result"
    }
   ],
   "source": [
    "math.sqrt(2)"
   ]
  },
  {
   "cell_type": "markdown",
   "id": "d844e7f9-aff6-4b08-817f-21d5b6e2431b",
   "metadata": {},
   "source": [
    "### Manejo de Listas"
   ]
  },
  {
   "cell_type": "code",
   "execution_count": 9,
   "id": "2dcd5d84-cb11-4e98-8550-eb3b20f78eb1",
   "metadata": {},
   "outputs": [
    {
     "name": "stdout",
     "output_type": "stream",
     "text": [
      "L\n",
      "e\n",
      "n\n",
      "i\n",
      "n\n",
      " \n",
      "G\n",
      "o\n",
      "n\n",
      "z\n",
      "a\n",
      "l\n",
      "o\n"
     ]
    }
   ],
   "source": [
    "nombres = 'Lenin Gonzalo'\n",
    "for i in nombres:\n",
    "    print(i)"
   ]
  },
  {
   "cell_type": "code",
   "execution_count": 11,
   "id": "cfc928c3-72c6-4a3f-9bca-ecc98bc55d00",
   "metadata": {},
   "outputs": [
    {
     "data": {
      "text/plain": [
       "'G'"
      ]
     },
     "execution_count": 11,
     "metadata": {},
     "output_type": "execute_result"
    }
   ],
   "source": [
    "nombres[6]"
   ]
  },
  {
   "cell_type": "code",
   "execution_count": 35,
   "id": "3feddf7e-6551-4393-9531-ec64c4046e62",
   "metadata": {},
   "outputs": [
    {
     "data": {
      "text/plain": [
       "2"
      ]
     },
     "execution_count": 35,
     "metadata": {},
     "output_type": "execute_result"
    }
   ],
   "source": [
    "nombres.find('n')"
   ]
  },
  {
   "cell_type": "code",
   "execution_count": 36,
   "id": "4e707328-7f8d-4057-a30b-3afa7c7a9b74",
   "metadata": {},
   "outputs": [
    {
     "data": {
      "text/plain": [
       "\u001b[0;31mDocstring:\u001b[0m\n",
       "S.find(sub[, start[, end]]) -> int\n",
       "\n",
       "Return the lowest index in S where substring sub is found,\n",
       "such that sub is contained within S[start:end].  Optional\n",
       "arguments start and end are interpreted as in slice notation.\n",
       "\n",
       "Return -1 on failure.\n",
       "\u001b[0;31mType:\u001b[0m      builtin_function_or_method"
      ]
     },
     "metadata": {},
     "output_type": "display_data"
    }
   ],
   "source": [
    "nombres.find?"
   ]
  },
  {
   "cell_type": "code",
   "execution_count": 17,
   "id": "5b52f8db-ef97-4670-916c-a6ac0b2c5f6f",
   "metadata": {},
   "outputs": [
    {
     "data": {
      "text/plain": [
       "['C:\\\\Users\\\\entea\\\\Music\\\\wallace\\\\3_la ilusion de amar', 'wav']"
      ]
     },
     "execution_count": 17,
     "metadata": {},
     "output_type": "execute_result"
    }
   ],
   "source": [
    "miarchivo = 'C:\\\\Users\\\\entea\\\\Music\\\\wallace\\\\3_la ilusion de amar.wav'\n",
    "miarchivo.split('.')"
   ]
  },
  {
   "cell_type": "code",
   "execution_count": 32,
   "id": "25603456-6601-4c97-b0ad-2a2bd2aa7069",
   "metadata": {},
   "outputs": [
    {
     "data": {
      "text/plain": [
       "True"
      ]
     },
     "execution_count": 32,
     "metadata": {},
     "output_type": "execute_result"
    }
   ],
   "source": [
    "miarchivo.endswith('.wav')"
   ]
  },
  {
   "cell_type": "code",
   "execution_count": 13,
   "id": "48e575d2-66d3-462f-b885-4c03f583f23b",
   "metadata": {},
   "outputs": [
    {
     "data": {
      "text/plain": [
       "5"
      ]
     },
     "execution_count": 13,
     "metadata": {},
     "output_type": "execute_result"
    }
   ],
   "source": [
    "listax = [1,2,3,4,5]\n",
    "listax[-1]"
   ]
  },
  {
   "cell_type": "code",
   "execution_count": 14,
   "id": "83b9d865-d5ae-44dd-befc-fe69468f258b",
   "metadata": {},
   "outputs": [
    {
     "data": {
      "text/plain": [
       "4"
      ]
     },
     "execution_count": 14,
     "metadata": {},
     "output_type": "execute_result"
    }
   ],
   "source": [
    "listax[-2]"
   ]
  },
  {
   "cell_type": "code",
   "execution_count": 15,
   "id": "415d3c1d-f291-403a-844a-6bca1b3bac41",
   "metadata": {},
   "outputs": [
    {
     "data": {
      "text/plain": [
       "'t'"
      ]
     },
     "execution_count": 15,
     "metadata": {},
     "output_type": "execute_result"
    }
   ],
   "source": [
    "miarchivo[-1]"
   ]
  },
  {
   "cell_type": "code",
   "execution_count": 18,
   "id": "28b1c806-80f8-4d3f-bbe7-ed46d508de53",
   "metadata": {},
   "outputs": [
    {
     "data": {
      "text/plain": [
       "'wav'"
      ]
     },
     "execution_count": 18,
     "metadata": {},
     "output_type": "execute_result"
    }
   ],
   "source": [
    "ext = miarchivo.split('.')[-1]\n",
    "ext"
   ]
  },
  {
   "cell_type": "code",
   "execution_count": 20,
   "id": "a9172bd6-2270-4ef7-afa6-4dcaeb391bf7",
   "metadata": {},
   "outputs": [
    {
     "data": {
      "text/plain": [
       "'3_la ilusion de amar.wav'"
      ]
     },
     "execution_count": 20,
     "metadata": {},
     "output_type": "execute_result"
    }
   ],
   "source": [
    "nombre_archivo = miarchivo.split('\\\\')[-1]\n",
    "nombre_archivo"
   ]
  },
  {
   "cell_type": "code",
   "execution_count": 21,
   "id": "bb9866a5-bc3a-4359-aef2-68702089b30f",
   "metadata": {},
   "outputs": [
    {
     "data": {
      "text/plain": [
       "'wav'"
      ]
     },
     "execution_count": 21,
     "metadata": {},
     "output_type": "execute_result"
    }
   ],
   "source": [
    "nombre_archivo.split('.')[-1]"
   ]
  },
  {
   "cell_type": "code",
   "execution_count": 23,
   "id": "341ef5ef-a859-4c0a-b115-f62d55c7ed56",
   "metadata": {},
   "outputs": [
    {
     "data": {
      "text/plain": [
       "[1, 2, 3, 4, 5]"
      ]
     },
     "execution_count": 23,
     "metadata": {},
     "output_type": "execute_result"
    }
   ],
   "source": [
    "listax"
   ]
  },
  {
   "cell_type": "code",
   "execution_count": 25,
   "id": "4480223f-1e5f-4498-8bf8-72b45ba1f2fb",
   "metadata": {},
   "outputs": [
    {
     "data": {
      "text/plain": [
       "[1, 2, 3, 4]"
      ]
     },
     "execution_count": 25,
     "metadata": {},
     "output_type": "execute_result"
    }
   ],
   "source": [
    "listax[:4]"
   ]
  },
  {
   "cell_type": "code",
   "execution_count": 26,
   "id": "0bcf2b99-8692-47ea-a36c-2df4d0a5df46",
   "metadata": {},
   "outputs": [
    {
     "data": {
      "text/plain": [
       "[3, 4, 5]"
      ]
     },
     "execution_count": 26,
     "metadata": {},
     "output_type": "execute_result"
    }
   ],
   "source": [
    "listax[2:]"
   ]
  },
  {
   "cell_type": "code",
   "execution_count": 27,
   "id": "15122b2b-f7f7-44c0-8c00-039b9f5d8672",
   "metadata": {},
   "outputs": [
    {
     "data": {
      "text/plain": [
       "[5]"
      ]
     },
     "execution_count": 27,
     "metadata": {},
     "output_type": "execute_result"
    }
   ],
   "source": [
    "listax[-1:]"
   ]
  },
  {
   "cell_type": "code",
   "execution_count": 28,
   "id": "dedde9af-b00d-4a80-9662-6f0c800b5655",
   "metadata": {},
   "outputs": [
    {
     "data": {
      "text/plain": [
       "[1, 2, 3, 4]"
      ]
     },
     "execution_count": 28,
     "metadata": {},
     "output_type": "execute_result"
    }
   ],
   "source": [
    "listax[:-1]"
   ]
  },
  {
   "cell_type": "markdown",
   "id": "5bd8ba27-9ae4-4911-b0d5-b03d21e55e64",
   "metadata": {},
   "source": [
    "# Capítulo 2\n",
    "## Manejo de Archivos"
   ]
  },
  {
   "cell_type": "code",
   "execution_count": 37,
   "id": "1348c2b4-8dc0-4adb-8f5d-12dc6349c9b5",
   "metadata": {},
   "outputs": [
    {
     "data": {
      "text/plain": [
       "'/home/leningfe/PythonProjects/PythonIntroDataScience'"
      ]
     },
     "execution_count": 37,
     "metadata": {},
     "output_type": "execute_result"
    }
   ],
   "source": [
    "import os\n",
    "\n",
    "os.getcwd()"
   ]
  },
  {
   "cell_type": "code",
   "execution_count": 38,
   "id": "1ded36f7-ce35-4aa1-be96-d7c5efb5c09c",
   "metadata": {},
   "outputs": [
    {
     "name": "stdout",
     "output_type": "stream",
     "text": [
      "/home/leningfe/PythonProjects/PythonIntroDataScience\n"
     ]
    }
   ],
   "source": [
    "!pwd"
   ]
  },
  {
   "cell_type": "code",
   "execution_count": 40,
   "id": "7107e066-d34a-4104-8e63-6914794d5553",
   "metadata": {},
   "outputs": [
    {
     "data": {
      "text/plain": [
       "['Notebook_00.ipynb', 'README.md', '.git', '.ipynb_checkpoints']"
      ]
     },
     "execution_count": 40,
     "metadata": {},
     "output_type": "execute_result"
    }
   ],
   "source": [
    "dir_raiz = os.getcwd()\n",
    "os.listdir(dir_raiz)"
   ]
  },
  {
   "cell_type": "code",
   "execution_count": 45,
   "id": "7d113a5f-98ec-4f24-a69e-603599c48def",
   "metadata": {},
   "outputs": [
    {
     "data": {
      "text/plain": [
       "'C:\\\\Users\\\\entea\\\\Music\\\\wallace\\\\3_la ilusion de amar.wav'"
      ]
     },
     "execution_count": 45,
     "metadata": {},
     "output_type": "execute_result"
    }
   ],
   "source": [
    "# os.listdir(miarchivo)\n",
    "miarchivo"
   ]
  },
  {
   "cell_type": "code",
   "execution_count": 51,
   "id": "b6560d79-f951-421f-a026-b86ab7549362",
   "metadata": {},
   "outputs": [
    {
     "data": {
      "text/plain": [
       "'C:\\\\Users\\\\entea\\\\Music\\\\wallace'"
      ]
     },
     "execution_count": 51,
     "metadata": {},
     "output_type": "execute_result"
    }
   ],
   "source": [
    "parts = miarchivo.split('\\\\')\n",
    "index = parts.index('wallace')\n",
    "wallace_path = '\\\\'.join(parts[:index+1])\n",
    "wallace_path"
   ]
  },
  {
   "cell_type": "code",
   "execution_count": 53,
   "id": "e2bb17a7-6573-4ccd-84e1-d14bf92e154e",
   "metadata": {},
   "outputs": [
    {
     "ename": "FileNotFoundError",
     "evalue": "[Errno 2] No such file or directory: 'mnt/c/Users/entea/Music/wallace'",
     "output_type": "error",
     "traceback": [
      "\u001b[0;31m---------------------------------------------------------------------------\u001b[0m",
      "\u001b[0;31mFileNotFoundError\u001b[0m                         Traceback (most recent call last)",
      "Cell \u001b[0;32mIn[53], line 1\u001b[0m\n\u001b[0;32m----> 1\u001b[0m \u001b[43mos\u001b[49m\u001b[38;5;241;43m.\u001b[39;49m\u001b[43mlistdir\u001b[49m\u001b[43m(\u001b[49m\u001b[38;5;124;43m'\u001b[39;49m\u001b[38;5;124;43mmnt/c/Users/entea/Music/wallace\u001b[39;49m\u001b[38;5;124;43m'\u001b[39;49m\u001b[43m)\u001b[49m\n",
      "\u001b[0;31mFileNotFoundError\u001b[0m: [Errno 2] No such file or directory: 'mnt/c/Users/entea/Music/wallace'"
     ]
    }
   ],
   "source": [
    "os.listdir('mnt/c/Users/entea/Music/wallace')"
   ]
  },
  {
   "cell_type": "code",
   "execution_count": 54,
   "id": "11b8ad81-ff31-47d2-8f0b-4a50f549c962",
   "metadata": {},
   "outputs": [
    {
     "data": {
      "text/plain": [
       "['Notebook_00.ipynb', 'README.md', 'dataset', '.git', '.ipynb_checkpoints']"
      ]
     },
     "execution_count": 54,
     "metadata": {},
     "output_type": "execute_result"
    }
   ],
   "source": [
    "os.makedirs('dataset')\n",
    "os.listdir(dir_raiz)"
   ]
  },
  {
   "cell_type": "code",
   "execution_count": 55,
   "id": "5c5082d5-2247-4186-b57c-bcf7b9ed94b1",
   "metadata": {},
   "outputs": [
    {
     "data": {
      "text/plain": [
       "<Response [200]>"
      ]
     },
     "execution_count": 55,
     "metadata": {},
     "output_type": "execute_result"
    }
   ],
   "source": [
    "import requests\n",
    "\n",
    "url = \"https://www.gutenberg.org/files/11/11-0.txt\"\n",
    "\n",
    "response = requests.get(url)\n",
    "response"
   ]
  },
  {
   "cell_type": "code",
   "execution_count": 56,
   "id": "d5abed9f-ca21-4a1e-b141-3dd84705731b",
   "metadata": {},
   "outputs": [
    {
     "data": {
      "text/plain": [
       "'/home/leningfe/PythonProjects/PythonIntroDataScience/dataset/alicia.txt'"
      ]
     },
     "execution_count": 56,
     "metadata": {},
     "output_type": "execute_result"
    }
   ],
   "source": [
    "path_destino = os.path.join(dir_raiz, 'dataset', 'alicia.txt')\n",
    "path_destino"
   ]
  },
  {
   "cell_type": "code",
   "execution_count": 58,
   "id": "9da13fed-4f84-4194-868c-24b41e6d2966",
   "metadata": {},
   "outputs": [
    {
     "name": "stdout",
     "output_type": "stream",
     "text": [
      "El archivo ha sido escrito en /home/leningfe/PythonProjects/PythonIntroDataScience/dataset/alicia.txt\n"
     ]
    }
   ],
   "source": [
    "if response.status_code == 200:\n",
    "    with open(path_destino, \"w\", encoding='utf-8') as f:\n",
    "        f.write(response.text)\n",
    "    print(f\"El archivo ha sido escrito en {path_destino}\")\n",
    "else:\n",
    "    print(f\"Error al descagar el archivo. Codigo {response.status_code}\")"
   ]
  },
  {
   "cell_type": "code",
   "execution_count": 59,
   "id": "85cbd320-9ac1-48c5-b5a4-833c0ba379df",
   "metadata": {},
   "outputs": [],
   "source": [
    "with open(path_destino, \"r\", encoding=\"utf-8\") as f:\n",
    "    contenido = f.read()"
   ]
  },
  {
   "cell_type": "code",
   "execution_count": 65,
   "id": "25889117-359d-4454-a6e2-813419547b0a",
   "metadata": {},
   "outputs": [
    {
     "data": {
      "text/plain": [
       "'\\nby Lewis Carroll\\n\\nTHE MILLENNIUM FULCRUM EDITION 3.0\\n\\nContents\\n\\n CHAPTER I.     Down the Rabbit-Hole\\n CHAPTER II.    The Pool of Tears\\n CHAPTER III.   A Caucus-Race and a Long Tale\\n CHAPTER IV.    Th'"
      ]
     },
     "execution_count": 65,
     "metadata": {},
     "output_type": "execute_result"
    }
   ],
   "source": [
    "contenido[100:300]"
   ]
  },
  {
   "cell_type": "code",
   "execution_count": 66,
   "id": "f81a21df-fa3b-4ea9-a885-9e202592c4d2",
   "metadata": {},
   "outputs": [
    {
     "name": "stdout",
     "output_type": "stream",
     "text": [
      "\n",
      "by Lewis Carroll\n",
      "\n",
      "THE MILLENNIUM FULCRUM EDITION 3.0\n",
      "\n",
      "Contents\n",
      "\n",
      " CHAPTER I.     Down the Rabbit-Hole\n",
      " CHAPTER II.    The Pool of Tears\n",
      " CHAPTER III.   A Caucus-Race and a Long Tale\n",
      " CHAPTER IV.    Th\n"
     ]
    }
   ],
   "source": [
    "print(contenido[100:300])"
   ]
  }
 ],
 "metadata": {
  "kernelspec": {
   "display_name": "Python 3 (ipykernel)",
   "language": "python",
   "name": "python3"
  },
  "language_info": {
   "codemirror_mode": {
    "name": "ipython",
    "version": 3
   },
   "file_extension": ".py",
   "mimetype": "text/x-python",
   "name": "python",
   "nbconvert_exporter": "python",
   "pygments_lexer": "ipython3",
   "version": "3.9.19"
  }
 },
 "nbformat": 4,
 "nbformat_minor": 5
}
